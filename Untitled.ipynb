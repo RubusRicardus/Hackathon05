{
 "cells": [
  {
   "cell_type": "markdown",
   "source": "Import the necessary packages:",
   "metadata": {
    "cell_id": "00000-ea312b68-bc3f-4ec0-922d-29051283713c",
    "deepnote_cell_type": "markdown"
   }
  },
  {
   "cell_type": "code",
   "metadata": {
    "cell_id": "00001-0dcef49b-95a7-4cfc-bcc6-f76b46ec4f52",
    "deepnote_cell_type": "code"
   },
   "source": "import os\nimport numpy as np\nimport pandas as pd\n\nimport matplotlib.pyplot as plt",
   "outputs": [],
   "execution_count": null
  },
  {
   "cell_type": "markdown",
   "source": "Read the files:",
   "metadata": {
    "cell_id": "00002-09ca6d0b-a3e6-476c-8a61-c48753142ebe",
    "deepnote_cell_type": "markdown"
   }
  },
  {
   "cell_type": "code",
   "metadata": {
    "cell_id": "00003-868d2e11-106b-43a4-adb5-776aafa07733",
    "deepnote_cell_type": "code"
   },
   "source": "folder = 'data'\n\nfile_data = 'ratings.csv'\npath_interactions=os.path.join(folder,file_data)\n\nfile_item_attributes = 'anime.csv'\npath_item_attributes = os.path.join(folder,file_item_attributes)\n\nfile_test_user = 'test_users.csv' \npath_test_user = os.path.join(folder, file_test_user)\n\ndata = pd.read_csv(path_interactions)\ndata_items = pd.read_csv(path_item_attributes)\ntest_users = pd.read_csv(path_test_user)",
   "outputs": [],
   "execution_count": null
  },
  {
   "cell_type": "markdown",
   "source": "The 'name' column will not be useful, so we drop it:",
   "metadata": {
    "cell_id": "00004-2e43151f-160f-4b4d-a0ed-68a8aa1cce20",
    "deepnote_cell_type": "markdown"
   }
  },
  {
   "cell_type": "code",
   "metadata": {
    "cell_id": "00005-4cf48226-f5d0-4ecc-ab69-9eab7bb24e92",
    "deepnote_cell_type": "code"
   },
   "source": "# data_items.drop(columns = ['name'], inplace = True)",
   "outputs": [],
   "execution_count": null
  },
  {
   "cell_type": "markdown",
   "source": "Total number of animes:",
   "metadata": {
    "cell_id": "00006-49674b02-e9b6-4168-956b-a485575c65b2",
    "deepnote_cell_type": "markdown"
   }
  },
  {
   "cell_type": "code",
   "metadata": {
    "cell_id": "00007-c8440aa8-dc10-4406-96cb-1b10370462c3",
    "deepnote_output_heights": [
     21.199996948242188
    ],
    "deepnote_cell_type": "code"
   },
   "source": "data_items.shape[0]",
   "outputs": [
    {
     "data": {
      "text/plain": "12294"
     },
     "execution_count": 256,
     "metadata": {},
     "output_type": "execute_result"
    }
   ],
   "execution_count": null
  },
  {
   "cell_type": "markdown",
   "source": "Missing values:",
   "metadata": {
    "cell_id": "00008-24015b8f-2862-4ae0-ab9c-8c2a90d14f06",
    "deepnote_cell_type": "markdown"
   }
  },
  {
   "cell_type": "code",
   "metadata": {
    "cell_id": "00009-ae0dbf49-7215-475d-9474-d92ec3bbb7a0",
    "deepnote_output_heights": [
     155.60000610351562
    ],
    "deepnote_cell_type": "code"
   },
   "source": "data_items.isna().sum()",
   "outputs": [
    {
     "data": {
      "text/plain": "anime_id      0\nname          0\ngenre        62\ntype         25\nepisodes      0\nrating      276\nmembers     142\ndtype: int64"
     },
     "execution_count": 257,
     "metadata": {},
     "output_type": "execute_result"
    }
   ],
   "execution_count": null
  },
  {
   "cell_type": "markdown",
   "source": "## Genre",
   "metadata": {
    "cell_id": "00010-25b1f741-23ab-41ea-91aa-24f74142cbda",
    "deepnote_cell_type": "markdown"
   }
  },
  {
   "cell_type": "code",
   "metadata": {
    "cell_id": "00011-686dcbcc-b7a6-404d-9b00-5239f1fe7e78",
    "deepnote_output_heights": [
     78.80000305175781
    ],
    "deepnote_cell_type": "code"
   },
   "source": "data[data['anime_id'].isin(data_items[data_items['genre'].isna()]['anime_id'].values)].anime_id.unique()",
   "outputs": [
    {
     "data": {
      "text/plain": "array([29655, 28587, 31831, 29920, 28655, 33242, 31832, 33187, 29957,\n       29765, 19219, 28653, 30862, 29923, 31507, 28647, 30309, 31511,\n       30399, 31834, 32636, 31506, 31760, 29922, 32695, 31833, 28987,\n       31510])"
     },
     "execution_count": 258,
     "metadata": {},
     "output_type": "execute_result"
    }
   ],
   "execution_count": null
  },
  {
   "cell_type": "code",
   "metadata": {
    "cell_id": "00012-a8ca5bad-08a0-4f1b-b1a3-56a3bd321626",
    "deepnote_output_heights": [
     136.39999389648438
    ],
    "deepnote_cell_type": "code"
   },
   "source": "data_items[data_items['genre'].isna()]['anime_id'].values",
   "outputs": [
    {
     "data": {
      "text/plain": "array([33589, 32981, 33242, 33035, 32032, 34392, 34474, 33187, 30309,\n       19219, 28647, 34501, 29765, 28655, 29629, 32695, 28587, 33850,\n       29957, 30862, 34393, 31832, 34338, 31760, 31831, 31507, 31834,\n       31833, 28987, 33390, 33388, 28653, 33389, 30399, 29767, 29923,\n       30435, 31078, 29655, 29920, 29764, 30408, 29921, 34292, 29922,\n       31506, 28691, 34310, 32636, 31510, 28487, 30055, 30861, 31511,\n       31509, 31508, 32644, 34332, 33318, 33319, 33320, 34485])"
     },
     "execution_count": 259,
     "metadata": {},
     "output_type": "execute_result"
    }
   ],
   "execution_count": null
  },
  {
   "cell_type": "code",
   "metadata": {
    "cell_id": "00013-342bb7a7-b4bb-43d6-be18-e386de25763b",
    "deepnote_output_heights": [
     232.39999389648438
    ],
    "deepnote_cell_type": "code"
   },
   "source": "data_items['genre'].value_counts()",
   "outputs": [
    {
     "data": {
      "text/plain": "Hentai                                   823\nComedy                                   523\nMusic                                    301\nKids                                     199\nComedy, Slice of Life                    179\n                                        ... \nComedy, Demons, Shounen, Supernatural      1\nSchool, Slice of Life, Supernatural        1\nComedy, Sci-Fi, Shounen, Shounen           1\nAction, Game, Martial Arts, School         1\nComedy, Magic, Sci-Fi                      1\nName: genre, Length: 3264, dtype: int64"
     },
     "execution_count": 260,
     "metadata": {},
     "output_type": "execute_result"
    }
   ],
   "execution_count": null
  },
  {
   "cell_type": "code",
   "metadata": {
    "cell_id": "00014-1490cd98-c642-4977-8b71-a28e92bf23b9",
    "deepnote_output_heights": [
     221.1999969482422
    ],
    "deepnote_cell_type": "code"
   },
   "source": "# Explode the genres into columns\ndata_items['genre'] = data_items['genre'].str.lower().str.split(',')\ngenres_exploded = data_items['genre'].explode()\n\n# Do one-hot encoding of the columns\ngenre_encoding = data_items[['anime_id']].join(pd.crosstab(genres_exploded.index, genres_exploded))\ngenre_encoding = genre_encoding.fillna(0)\ngenre_encoding.head()",
   "outputs": [
    {
     "data": {
      "text/html": "<div>\n<style scoped>\n    .dataframe tbody tr th:only-of-type {\n        vertical-align: middle;\n    }\n\n    .dataframe tbody tr th {\n        vertical-align: top;\n    }\n\n    .dataframe thead th {\n        text-align: right;\n    }\n</style>\n<table border=\"1\" class=\"dataframe\">\n  <thead>\n    <tr style=\"text-align: right;\">\n      <th></th>\n      <th>anime_id</th>\n      <th>adventure</th>\n      <th>cars</th>\n      <th>comedy</th>\n      <th>dementia</th>\n      <th>demons</th>\n      <th>drama</th>\n      <th>ecchi</th>\n      <th>fantasy</th>\n      <th>game</th>\n      <th>...</th>\n      <th>shoujo</th>\n      <th>shounen</th>\n      <th>slice of life</th>\n      <th>space</th>\n      <th>sports</th>\n      <th>super power</th>\n      <th>supernatural</th>\n      <th>thriller</th>\n      <th>vampire</th>\n      <th>yaoi</th>\n    </tr>\n  </thead>\n  <tbody>\n    <tr>\n      <th>0</th>\n      <td>1535</td>\n      <td>0.0</td>\n      <td>0.0</td>\n      <td>0.0</td>\n      <td>0.0</td>\n      <td>0.0</td>\n      <td>0.0</td>\n      <td>0.0</td>\n      <td>0.0</td>\n      <td>0.0</td>\n      <td>...</td>\n      <td>0.0</td>\n      <td>0.0</td>\n      <td>0.0</td>\n      <td>0.0</td>\n      <td>0.0</td>\n      <td>0.0</td>\n      <td>0.0</td>\n      <td>0.0</td>\n      <td>0.0</td>\n      <td>0.0</td>\n    </tr>\n    <tr>\n      <th>1</th>\n      <td>16498</td>\n      <td>0.0</td>\n      <td>0.0</td>\n      <td>0.0</td>\n      <td>0.0</td>\n      <td>0.0</td>\n      <td>1.0</td>\n      <td>0.0</td>\n      <td>1.0</td>\n      <td>0.0</td>\n      <td>...</td>\n      <td>0.0</td>\n      <td>0.0</td>\n      <td>0.0</td>\n      <td>0.0</td>\n      <td>0.0</td>\n      <td>0.0</td>\n      <td>0.0</td>\n      <td>0.0</td>\n      <td>0.0</td>\n      <td>0.0</td>\n    </tr>\n    <tr>\n      <th>2</th>\n      <td>11757</td>\n      <td>1.0</td>\n      <td>0.0</td>\n      <td>0.0</td>\n      <td>0.0</td>\n      <td>0.0</td>\n      <td>0.0</td>\n      <td>0.0</td>\n      <td>1.0</td>\n      <td>1.0</td>\n      <td>...</td>\n      <td>0.0</td>\n      <td>0.0</td>\n      <td>0.0</td>\n      <td>0.0</td>\n      <td>0.0</td>\n      <td>0.0</td>\n      <td>0.0</td>\n      <td>0.0</td>\n      <td>0.0</td>\n      <td>0.0</td>\n    </tr>\n    <tr>\n      <th>3</th>\n      <td>5114</td>\n      <td>1.0</td>\n      <td>0.0</td>\n      <td>0.0</td>\n      <td>0.0</td>\n      <td>0.0</td>\n      <td>1.0</td>\n      <td>0.0</td>\n      <td>1.0</td>\n      <td>0.0</td>\n      <td>...</td>\n      <td>0.0</td>\n      <td>0.0</td>\n      <td>0.0</td>\n      <td>0.0</td>\n      <td>0.0</td>\n      <td>0.0</td>\n      <td>0.0</td>\n      <td>0.0</td>\n      <td>0.0</td>\n      <td>0.0</td>\n    </tr>\n    <tr>\n      <th>4</th>\n      <td>6547</td>\n      <td>0.0</td>\n      <td>0.0</td>\n      <td>1.0</td>\n      <td>0.0</td>\n      <td>0.0</td>\n      <td>1.0</td>\n      <td>0.0</td>\n      <td>0.0</td>\n      <td>0.0</td>\n      <td>...</td>\n      <td>0.0</td>\n      <td>0.0</td>\n      <td>0.0</td>\n      <td>0.0</td>\n      <td>0.0</td>\n      <td>0.0</td>\n      <td>0.0</td>\n      <td>0.0</td>\n      <td>0.0</td>\n      <td>0.0</td>\n    </tr>\n  </tbody>\n</table>\n<p>5 rows × 83 columns</p>\n</div>",
      "text/plain": "   anime_id   adventure   cars   comedy   dementia   demons   drama   ecchi  \\\n0      1535         0.0    0.0      0.0        0.0      0.0     0.0     0.0   \n1     16498         0.0    0.0      0.0        0.0      0.0     1.0     0.0   \n2     11757         1.0    0.0      0.0        0.0      0.0     0.0     0.0   \n3      5114         1.0    0.0      0.0        0.0      0.0     1.0     0.0   \n4      6547         0.0    0.0      1.0        0.0      0.0     1.0     0.0   \n\n    fantasy   game  ...  shoujo  shounen  slice of life  space  sports  \\\n0       0.0    0.0  ...     0.0      0.0            0.0    0.0     0.0   \n1       1.0    0.0  ...     0.0      0.0            0.0    0.0     0.0   \n2       1.0    1.0  ...     0.0      0.0            0.0    0.0     0.0   \n3       1.0    0.0  ...     0.0      0.0            0.0    0.0     0.0   \n4       0.0    0.0  ...     0.0      0.0            0.0    0.0     0.0   \n\n   super power  supernatural  thriller  vampire  yaoi  \n0          0.0           0.0       0.0      0.0   0.0  \n1          0.0           0.0       0.0      0.0   0.0  \n2          0.0           0.0       0.0      0.0   0.0  \n3          0.0           0.0       0.0      0.0   0.0  \n4          0.0           0.0       0.0      0.0   0.0  \n\n[5 rows x 83 columns]"
     },
     "execution_count": 261,
     "metadata": {},
     "output_type": "execute_result"
    }
   ],
   "execution_count": null
  },
  {
   "cell_type": "code",
   "metadata": {
    "cell_id": "00015-c96ecf2a-cc65-47aa-80a2-a9ec1d5ab044",
    "deepnote_output_heights": [
     105.86666870117188
    ],
    "deepnote_cell_type": "code"
   },
   "source": "genre_encoding[genre_encoding.anime_id == 29655]",
   "outputs": [
    {
     "data": {
      "text/html": "<div>\n<style scoped>\n    .dataframe tbody tr th:only-of-type {\n        vertical-align: middle;\n    }\n\n    .dataframe tbody tr th {\n        vertical-align: top;\n    }\n\n    .dataframe thead th {\n        text-align: right;\n    }\n</style>\n<table border=\"1\" class=\"dataframe\">\n  <thead>\n    <tr style=\"text-align: right;\">\n      <th></th>\n      <th>anime_id</th>\n      <th>adventure</th>\n      <th>cars</th>\n      <th>comedy</th>\n      <th>dementia</th>\n      <th>demons</th>\n      <th>drama</th>\n      <th>ecchi</th>\n      <th>fantasy</th>\n      <th>game</th>\n      <th>...</th>\n      <th>shoujo</th>\n      <th>shounen</th>\n      <th>slice of life</th>\n      <th>space</th>\n      <th>sports</th>\n      <th>super power</th>\n      <th>supernatural</th>\n      <th>thriller</th>\n      <th>vampire</th>\n      <th>yaoi</th>\n    </tr>\n  </thead>\n  <tbody>\n    <tr>\n      <th>10825</th>\n      <td>29655</td>\n      <td>0.0</td>\n      <td>0.0</td>\n      <td>0.0</td>\n      <td>0.0</td>\n      <td>0.0</td>\n      <td>0.0</td>\n      <td>0.0</td>\n      <td>0.0</td>\n      <td>0.0</td>\n      <td>...</td>\n      <td>0.0</td>\n      <td>0.0</td>\n      <td>0.0</td>\n      <td>0.0</td>\n      <td>0.0</td>\n      <td>0.0</td>\n      <td>0.0</td>\n      <td>0.0</td>\n      <td>0.0</td>\n      <td>0.0</td>\n    </tr>\n  </tbody>\n</table>\n<p>1 rows × 83 columns</p>\n</div>",
      "text/plain": "       anime_id   adventure   cars   comedy   dementia   demons   drama  \\\n10825     29655         0.0    0.0      0.0        0.0      0.0     0.0   \n\n        ecchi   fantasy   game  ...  shoujo  shounen  slice of life  space  \\\n10825     0.0       0.0    0.0  ...     0.0      0.0            0.0    0.0   \n\n       sports  super power  supernatural  thriller  vampire  yaoi  \n10825     0.0          0.0           0.0       0.0      0.0   0.0  \n\n[1 rows x 83 columns]"
     },
     "execution_count": 262,
     "metadata": {},
     "output_type": "execute_result"
    }
   ],
   "execution_count": null
  },
  {
   "cell_type": "markdown",
   "source": "## Type",
   "metadata": {
    "cell_id": "00016-52c1ca1e-5d17-4e90-b974-6a3c01e394f0",
    "deepnote_cell_type": "markdown"
   }
  },
  {
   "cell_type": "code",
   "metadata": {
    "cell_id": "00017-6f994044-35a2-4306-b6b0-ecd8741e559e",
    "deepnote_output_heights": [
     136.39999389648438
    ],
    "deepnote_cell_type": "code"
   },
   "source": "data_items.type.value_counts()",
   "outputs": [
    {
     "data": {
      "text/plain": "TV         3787\nOVA        3311\nMovie      2348\nSpecial    1676\nONA         659\nMusic       488\nName: type, dtype: int64"
     },
     "execution_count": 263,
     "metadata": {},
     "output_type": "execute_result"
    }
   ],
   "execution_count": null
  },
  {
   "cell_type": "code",
   "metadata": {
    "cell_id": "00018-0a127af7-d18e-43ef-8ff1-b71680a52eb0",
    "deepnote_cell_type": "code"
   },
   "source": "type_encoding = pd.merge(data_items['anime_id'], pd.get_dummies(data_items.type), left_index = True, right_index = True)",
   "outputs": [],
   "execution_count": null
  },
  {
   "cell_type": "code",
   "metadata": {
    "cell_id": "00019-a0e98e6e-6715-43d9-86dd-73d5816b0ecb",
    "deepnote_cell_type": "code"
   },
   "source": "data_items['type'] = data_items['type']",
   "outputs": [],
   "execution_count": null
  },
  {
   "cell_type": "markdown",
   "source": "## Episodes",
   "metadata": {
    "cell_id": "00020-c3933162-f06b-4895-a6d9-f04b176cd684",
    "deepnote_cell_type": "markdown"
   }
  },
  {
   "cell_type": "code",
   "metadata": {
    "cell_id": "00021-c795f1db-a138-41f0-b06b-d24e2a2fedf6",
    "deepnote_output_heights": [
     21.199996948242188
    ],
    "deepnote_cell_type": "code"
   },
   "source": "data_items['episodes'].min()",
   "outputs": [
    {
     "data": {
      "text/plain": "'1'"
     },
     "execution_count": 266,
     "metadata": {},
     "output_type": "execute_result"
    }
   ],
   "execution_count": null
  },
  {
   "cell_type": "code",
   "metadata": {
    "cell_id": "00022-b1a08a64-4b0e-4854-abf1-fc7ca26a730a",
    "deepnote_output_heights": [
     21.199996948242188
    ],
    "deepnote_cell_type": "code"
   },
   "source": "data_items['episodes'].max()",
   "outputs": [
    {
     "data": {
      "text/plain": "'Unknown'"
     },
     "execution_count": 267,
     "metadata": {},
     "output_type": "execute_result"
    }
   ],
   "execution_count": null
  },
  {
   "cell_type": "code",
   "metadata": {
    "cell_id": "00023-ec359858-d60a-41e9-bb9b-094b98d7bfb0",
    "deepnote_output_heights": [
     394.20001220703125
    ],
    "deepnote_cell_type": "code"
   },
   "source": "data_items[data_items['episodes'] != 'Unknown']",
   "outputs": [
    {
     "data": {
      "text/html": "<div>\n<style scoped>\n    .dataframe tbody tr th:only-of-type {\n        vertical-align: middle;\n    }\n\n    .dataframe tbody tr th {\n        vertical-align: top;\n    }\n\n    .dataframe thead th {\n        text-align: right;\n    }\n</style>\n<table border=\"1\" class=\"dataframe\">\n  <thead>\n    <tr style=\"text-align: right;\">\n      <th></th>\n      <th>anime_id</th>\n      <th>name</th>\n      <th>genre</th>\n      <th>type</th>\n      <th>episodes</th>\n      <th>rating</th>\n      <th>members</th>\n    </tr>\n  </thead>\n  <tbody>\n    <tr>\n      <th>0</th>\n      <td>1535</td>\n      <td>Death Note</td>\n      <td>[mystery,  police,  psychological,  supernatur...</td>\n      <td>TV</td>\n      <td>37</td>\n      <td>8.71</td>\n      <td>1013917.0</td>\n    </tr>\n    <tr>\n      <th>1</th>\n      <td>16498</td>\n      <td>Shingeki no Kyojin</td>\n      <td>[action,  drama,  fantasy,  shounen,  super po...</td>\n      <td>TV</td>\n      <td>25</td>\n      <td>8.54</td>\n      <td>896229.0</td>\n    </tr>\n    <tr>\n      <th>2</th>\n      <td>11757</td>\n      <td>Sword Art Online</td>\n      <td>[action,  adventure,  fantasy,  game,  romance]</td>\n      <td>TV</td>\n      <td>25</td>\n      <td>7.83</td>\n      <td>893100.0</td>\n    </tr>\n    <tr>\n      <th>3</th>\n      <td>5114</td>\n      <td>Fullmetal Alchemist: Brotherhood</td>\n      <td>[action,  adventure,  drama,  fantasy,  magic,...</td>\n      <td>TV</td>\n      <td>64</td>\n      <td>9.26</td>\n      <td>793665.0</td>\n    </tr>\n    <tr>\n      <th>4</th>\n      <td>6547</td>\n      <td>Angel Beats!</td>\n      <td>[action,  comedy,  drama,  school,  supernatural]</td>\n      <td>TV</td>\n      <td>13</td>\n      <td>8.39</td>\n      <td>717796.0</td>\n    </tr>\n    <tr>\n      <th>...</th>\n      <td>...</td>\n      <td>...</td>\n      <td>...</td>\n      <td>...</td>\n      <td>...</td>\n      <td>...</td>\n      <td>...</td>\n    </tr>\n    <tr>\n      <th>12288</th>\n      <td>33319</td>\n      <td>Wareware no Heya</td>\n      <td>NaN</td>\n      <td>Movie</td>\n      <td>1</td>\n      <td>8.00</td>\n      <td>15.0</td>\n    </tr>\n    <tr>\n      <th>12289</th>\n      <td>33662</td>\n      <td>Taka no Tsume 8: Yoshida-kun no X-Files</td>\n      <td>[comedy,  parody]</td>\n      <td>Movie</td>\n      <td>1</td>\n      <td>10.00</td>\n      <td>NaN</td>\n    </tr>\n    <tr>\n      <th>12290</th>\n      <td>33320</td>\n      <td>Suijun Genten</td>\n      <td>NaN</td>\n      <td>Movie</td>\n      <td>1</td>\n      <td>7.00</td>\n      <td>13.0</td>\n    </tr>\n    <tr>\n      <th>12291</th>\n      <td>34490</td>\n      <td>Sushi Azarashi</td>\n      <td>[comedy]</td>\n      <td>TV</td>\n      <td>30</td>\n      <td>3.00</td>\n      <td>12.0</td>\n    </tr>\n    <tr>\n      <th>12293</th>\n      <td>34527</td>\n      <td>Gou-chan. Moko to Chinjuu no Mori no Nakama-tachi</td>\n      <td>[adventure,  kids]</td>\n      <td>Movie</td>\n      <td>1</td>\n      <td>NaN</td>\n      <td>5.0</td>\n    </tr>\n  </tbody>\n</table>\n<p>11954 rows × 7 columns</p>\n</div>",
      "text/plain": "       anime_id                                               name  \\\n0          1535                                         Death Note   \n1         16498                                 Shingeki no Kyojin   \n2         11757                                   Sword Art Online   \n3          5114                   Fullmetal Alchemist: Brotherhood   \n4          6547                                       Angel Beats!   \n...         ...                                                ...   \n12288     33319                                   Wareware no Heya   \n12289     33662            Taka no Tsume 8: Yoshida-kun no X-Files   \n12290     33320                                      Suijun Genten   \n12291     34490                                     Sushi Azarashi   \n12293     34527  Gou-chan. Moko to Chinjuu no Mori no Nakama-tachi   \n\n                                                   genre   type episodes  \\\n0      [mystery,  police,  psychological,  supernatur...     TV       37   \n1      [action,  drama,  fantasy,  shounen,  super po...     TV       25   \n2        [action,  adventure,  fantasy,  game,  romance]     TV       25   \n3      [action,  adventure,  drama,  fantasy,  magic,...     TV       64   \n4      [action,  comedy,  drama,  school,  supernatural]     TV       13   \n...                                                  ...    ...      ...   \n12288                                                NaN  Movie        1   \n12289                                  [comedy,  parody]  Movie        1   \n12290                                                NaN  Movie        1   \n12291                                           [comedy]     TV       30   \n12293                                 [adventure,  kids]  Movie        1   \n\n       rating    members  \n0        8.71  1013917.0  \n1        8.54   896229.0  \n2        7.83   893100.0  \n3        9.26   793665.0  \n4        8.39   717796.0  \n...       ...        ...  \n12288    8.00       15.0  \n12289   10.00        NaN  \n12290    7.00       13.0  \n12291    3.00       12.0  \n12293     NaN        5.0  \n\n[11954 rows x 7 columns]"
     },
     "execution_count": 268,
     "metadata": {},
     "output_type": "execute_result"
    }
   ],
   "execution_count": null
  },
  {
   "cell_type": "code",
   "metadata": {
    "cell_id": "00024-79ef67f7-3bb2-4ccb-bedb-afc86ba71f1c",
    "deepnote_cell_type": "code"
   },
   "source": "data_items_type = data_items[data_items['episodes'] != 'Unknown']\ndata_items_type.episodes = data_items_type.episodes.astype(int)",
   "outputs": [
    {
     "name": "stderr",
     "output_type": "stream",
     "text": "/home/pgomes/.virtualenvs/slu00/lib/python3.7/site-packages/pandas/core/generic.py:5494: SettingWithCopyWarning: \nA value is trying to be set on a copy of a slice from a DataFrame.\nTry using .loc[row_indexer,col_indexer] = value instead\n\nSee the caveats in the documentation: https://pandas.pydata.org/pandas-docs/stable/user_guide/indexing.html#returning-a-view-versus-a-copy\n  self[name] = value\n"
    }
   ],
   "execution_count": null
  },
  {
   "cell_type": "code",
   "metadata": {
    "cell_id": "00025-505648b7-c9c8-45fe-b166-e023dbe9e0bb",
    "deepnote_output_heights": [
     21.199996948242188
    ],
    "deepnote_cell_type": "code"
   },
   "source": "type_dict = data_items_type[data_items_type['episodes'] != 'Unknown'].groupby(['type'])['episodes'].median().to_dict()\ntype_dict",
   "outputs": [
    {
     "data": {
      "text/plain": "{'Movie': 1, 'Music': 1, 'ONA': 2, 'OVA': 2, 'Special': 1, 'TV': 24}"
     },
     "execution_count": 270,
     "metadata": {},
     "output_type": "execute_result"
    }
   ],
   "execution_count": null
  },
  {
   "cell_type": "code",
   "metadata": {
    "cell_id": "00026-16740aff-2252-4862-b032-b020b0f9f027",
    "deepnote_cell_type": "code"
   },
   "source": "for k in type_dict.keys():\n    data_items.loc[(data_items.episodes == 'Unknown') & (data_items.type == k)] = type_dict[k]\n\ndata_items.loc[(data_items.episodes == 'Unknown')] = 2\n\ndata_items.episodes = data_items.episodes.astype(int)",
   "outputs": [],
   "execution_count": null
  },
  {
   "cell_type": "code",
   "metadata": {
    "cell_id": "00027-d2d8b728-b00c-495d-9f25-cd6b0c82cccf",
    "deepnote_output_heights": [
     21.199996948242188
    ],
    "deepnote_cell_type": "code"
   },
   "source": "data_items.episodes.min()",
   "outputs": [
    {
     "data": {
      "text/plain": "1"
     },
     "execution_count": 272,
     "metadata": {},
     "output_type": "execute_result"
    }
   ],
   "execution_count": null
  },
  {
   "cell_type": "code",
   "metadata": {
    "cell_id": "00028-62c3bd3f-e561-4064-956f-a9a0e8e75462",
    "deepnote_output_heights": [
     21.199996948242188
    ],
    "deepnote_cell_type": "code"
   },
   "source": "data_items.episodes.mean()",
   "outputs": [
    {
     "data": {
      "text/plain": "12.468602570359526"
     },
     "execution_count": 276,
     "metadata": {},
     "output_type": "execute_result"
    }
   ],
   "execution_count": null
  },
  {
   "cell_type": "code",
   "metadata": {
    "cell_id": "00029-cdaa0c54-d26c-4098-a8a6-428380ff7b03",
    "deepnote_output_heights": [
     420.66668701171875
    ],
    "deepnote_cell_type": "code"
   },
   "source": "data_items[data_items.episodes > 500]",
   "outputs": [
    {
     "data": {
      "text/html": "<div>\n<style scoped>\n    .dataframe tbody tr th:only-of-type {\n        vertical-align: middle;\n    }\n\n    .dataframe tbody tr th {\n        vertical-align: top;\n    }\n\n    .dataframe thead th {\n        text-align: right;\n    }\n</style>\n<table border=\"1\" class=\"dataframe\">\n  <thead>\n    <tr style=\"text-align: right;\">\n      <th></th>\n      <th>anime_id</th>\n      <th>name</th>\n      <th>genre</th>\n      <th>type</th>\n      <th>episodes</th>\n      <th>rating</th>\n      <th>members</th>\n    </tr>\n  </thead>\n  <tbody>\n    <tr>\n      <th>2524</th>\n      <td>2471</td>\n      <td>Doraemon (1979)</td>\n      <td>[adventure,  comedy,  fantasy,  kids,  sci-fi,...</td>\n      <td>TV</td>\n      <td>1787</td>\n      <td>7.76</td>\n      <td>14233.0</td>\n    </tr>\n    <tr>\n      <th>5525</th>\n      <td>4936</td>\n      <td>Ninja Hattori-kun</td>\n      <td>[comedy,  martial arts,  slice of life]</td>\n      <td>TV</td>\n      <td>694</td>\n      <td>6.92</td>\n      <td>2116.0</td>\n    </tr>\n    <tr>\n      <th>8209</th>\n      <td>11595</td>\n      <td>Perman (1983)</td>\n      <td>[comedy,  kids,  school,  super power]</td>\n      <td>TV</td>\n      <td>526</td>\n      <td>6.34</td>\n      <td>447.0</td>\n    </tr>\n    <tr>\n      <th>8359</th>\n      <td>6277</td>\n      <td>Manga Nippon Mukashibanashi (1976)</td>\n      <td>[fantasy,  historical]</td>\n      <td>TV</td>\n      <td>1471</td>\n      <td>6.48</td>\n      <td>406.0</td>\n    </tr>\n    <tr>\n      <th>9145</th>\n      <td>9768</td>\n      <td>Shima Shima Tora no Shimajirou</td>\n      <td>[adventure,  comedy,  fantasy,  kids,  magic]</td>\n      <td>TV</td>\n      <td>726</td>\n      <td>6.25</td>\n      <td>237.0</td>\n    </tr>\n    <tr>\n      <th>9454</th>\n      <td>8213</td>\n      <td>Hoka Hoka Kazoku</td>\n      <td>[comedy]</td>\n      <td>TV</td>\n      <td>1428</td>\n      <td>6.05</td>\n      <td>194.0</td>\n    </tr>\n    <tr>\n      <th>9743</th>\n      <td>7981</td>\n      <td>Obake no Q-tarou (1985)</td>\n      <td>[comedy,  kids,  school,  slice of life,  supe...</td>\n      <td>TV</td>\n      <td>510</td>\n      <td>6.54</td>\n      <td>161.0</td>\n    </tr>\n    <tr>\n      <th>9756</th>\n      <td>12393</td>\n      <td>Oyako Club</td>\n      <td>[comedy,  slice of life]</td>\n      <td>TV</td>\n      <td>1818</td>\n      <td>6.18</td>\n      <td>160.0</td>\n    </tr>\n    <tr>\n      <th>9827</th>\n      <td>10241</td>\n      <td>Sekai Monoshiri Ryoko</td>\n      <td>[comedy]</td>\n      <td>TV</td>\n      <td>1006</td>\n      <td>5.92</td>\n      <td>153.0</td>\n    </tr>\n    <tr>\n      <th>10313</th>\n      <td>23349</td>\n      <td>Kirin Monoshiri Yakata</td>\n      <td>[kids]</td>\n      <td>TV</td>\n      <td>1565</td>\n      <td>5.56</td>\n      <td>116.0</td>\n    </tr>\n    <tr>\n      <th>10378</th>\n      <td>22221</td>\n      <td>Monoshiri Daigaku: Ashita no Calendar</td>\n      <td>[historical]</td>\n      <td>TV</td>\n      <td>1274</td>\n      <td>6.80</td>\n      <td>112.0</td>\n    </tr>\n    <tr>\n      <th>10412</th>\n      <td>20117</td>\n      <td>Kotowaza House</td>\n      <td>[comedy,  slice of life]</td>\n      <td>TV</td>\n      <td>773</td>\n      <td>5.63</td>\n      <td>110.0</td>\n    </tr>\n    <tr>\n      <th>11653</th>\n      <td>32448</td>\n      <td>Kirin Ashita no Calendar</td>\n      <td>[historical,  kids]</td>\n      <td>TV</td>\n      <td>1306</td>\n      <td>6.43</td>\n      <td>59.0</td>\n    </tr>\n  </tbody>\n</table>\n</div>",
      "text/plain": "       anime_id                                   name  \\\n2524       2471                        Doraemon (1979)   \n5525       4936                      Ninja Hattori-kun   \n8209      11595                          Perman (1983)   \n8359       6277     Manga Nippon Mukashibanashi (1976)   \n9145       9768         Shima Shima Tora no Shimajirou   \n9454       8213                       Hoka Hoka Kazoku   \n9743       7981                Obake no Q-tarou (1985)   \n9756      12393                             Oyako Club   \n9827      10241                  Sekai Monoshiri Ryoko   \n10313     23349                 Kirin Monoshiri Yakata   \n10378     22221  Monoshiri Daigaku: Ashita no Calendar   \n10412     20117                         Kotowaza House   \n11653     32448               Kirin Ashita no Calendar   \n\n                                                   genre type  episodes  \\\n2524   [adventure,  comedy,  fantasy,  kids,  sci-fi,...   TV      1787   \n5525             [comedy,  martial arts,  slice of life]   TV       694   \n8209              [comedy,  kids,  school,  super power]   TV       526   \n8359                              [fantasy,  historical]   TV      1471   \n9145       [adventure,  comedy,  fantasy,  kids,  magic]   TV       726   \n9454                                            [comedy]   TV      1428   \n9743   [comedy,  kids,  school,  slice of life,  supe...   TV       510   \n9756                            [comedy,  slice of life]   TV      1818   \n9827                                            [comedy]   TV      1006   \n10313                                             [kids]   TV      1565   \n10378                                       [historical]   TV      1274   \n10412                           [comedy,  slice of life]   TV       773   \n11653                                [historical,  kids]   TV      1306   \n\n       rating  members  \n2524     7.76  14233.0  \n5525     6.92   2116.0  \n8209     6.34    447.0  \n8359     6.48    406.0  \n9145     6.25    237.0  \n9454     6.05    194.0  \n9743     6.54    161.0  \n9756     6.18    160.0  \n9827     5.92    153.0  \n10313    5.56    116.0  \n10378    6.80    112.0  \n10412    5.63    110.0  \n11653    6.43     59.0  "
     },
     "execution_count": 273,
     "metadata": {},
     "output_type": "execute_result"
    }
   ],
   "execution_count": null
  },
  {
   "cell_type": "code",
   "metadata": {
    "cell_id": "00030-1ee76c02-9b05-42cf-ac2a-1e43d1f4f246",
    "deepnote_output_heights": [
     232.39999389648438
    ],
    "deepnote_cell_type": "code"
   },
   "source": "data_items.episodes.apply(lambda x: np.log(x))",
   "outputs": [
    {
     "data": {
      "text/plain": "0        3.610918\n1        3.218876\n2        3.218876\n3        4.158883\n4        2.564949\n           ...   \n12289    0.000000\n12290    0.000000\n12291    3.401197\n12292    0.693147\n12293    0.000000\nName: episodes, Length: 12294, dtype: float64"
     },
     "execution_count": 274,
     "metadata": {},
     "output_type": "execute_result"
    }
   ],
   "execution_count": null
  },
  {
   "cell_type": "code",
   "metadata": {
    "cell_id": "00031-0db70a93-3b92-4f91-ac51-d6039f51d83b",
    "deepnote_output_heights": [
     250
    ],
    "deepnote_cell_type": "code"
   },
   "source": "data_items.episodes.apply(lambda x: np.log(x)).plot.hist()\n\nplt.show()",
   "outputs": [
    {
     "data": {
      "image/png": "[encoded data removed]",
      "text/plain": "<Figure size 432x288 with 1 Axes>"
     },
     "metadata": {
      "needs_background": "light",
      "image/png": {
       "width": 395,
       "height": 248
      }
     },
     "output_type": "display_data"
    }
   ],
   "execution_count": null
  },
  {
   "cell_type": "markdown",
   "source": "## Ratings",
   "metadata": {
    "cell_id": "00032-40801048-e2e7-4d87-95cb-b38637d2fa45",
    "deepnote_cell_type": "markdown"
   }
  },
  {
   "cell_type": "code",
   "metadata": {
    "cell_id": "00033-7030a3fd-8a90-4462-8ecd-106b25ab3509",
    "deepnote_cell_type": "code"
   },
   "source": "",
   "execution_count": null,
   "outputs": []
  },
  {
   "cell_type": "markdown",
   "source": "<a style='text-decoration:none;line-height:16px;display:flex;color:#5B5B62;padding:10px;justify-content:end;' href='https://deepnote.com?utm_source=created-in-deepnote-cell&projectId=28895d3e-f77b-4bea-951b-700585fed7e2' target=\"_blank\">\n<img alt='Created in deepnote.com' style='display:inline;max-height:16px;margin:0px;margin-right:7.5px;' src='data:image/svg+xml;base64,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' > </img>\nCreated in <span style='font-weight:600;margin-left:4px;'>Deepnote</span></a>",
   "metadata": {
    "tags": [],
    "created_in_deepnote_cell": true,
    "deepnote_cell_type": "markdown"
   }
  }
 ],
 "nbformat": 4,
 "nbformat_minor": 5,
 "metadata": {
  "kernelspec": {
   "display_name": "Python 3",
   "language": "python",
   "name": "python3"
  },
  "language_info": {
   "codemirror_mode": {
    "name": "ipython",
    "version": 3
   },
   "file_extension": ".py",
   "mimetype": "text/x-python",
   "name": "python",
   "nbconvert_exporter": "python",
   "pygments_lexer": "ipython3",
   "version": "3.7.12"
  },
  "deepnote_notebook_id": "ff8f5c69-63a7-45ea-a9c0-ec098ee0ef8f",
  "deepnote": {},
  "deepnote_execution_queue": []
 }
}